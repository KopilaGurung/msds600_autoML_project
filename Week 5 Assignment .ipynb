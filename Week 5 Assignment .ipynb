{
 "cells": [
  {
   "cell_type": "markdown",
   "id": "165166dd",
   "metadata": {},
   "source": [
    "# DS Automation Assignment"
   ]
  },
  {
   "cell_type": "markdown",
   "id": "c195af74",
   "metadata": {},
   "source": [
    "Using our prepared churn data from week 2:\n",
    "- use pycaret to find an ML algorithm that performs best on the data\n",
    "    - Choose a metric you think is best to use for finding the best model; by default, it is accuracy but it could be AUC, precision, recall, etc. The week 3 FTE has some information on these different metrics.\n",
    "- save the model to disk\n",
    "- create a Python script/file/module with a function that takes a pandas dataframe as an input and returns the probability of churn for each row in the dataframe\n",
    "    - your Python file/function should print out the predictions for new data (new_churn_data.csv)\n",
    "    - the true values for the new data are [1, 0, 0, 1, 0] if you're interested\n",
    "- test your Python module and function with the new data, new_churn_data.csv\n",
    "- write a short summary of the process and results at the end of this notebook\n",
    "- upload this Jupyter Notebook and Python file to a Github repository, and turn in a link to the repository in the week 5 assignment dropbox\n",
    "\n",
    "*Optional* challenges:\n",
    "- return the probability of churn for each new prediction, and the percentile where that prediction is in the distribution of probability predictions from the training dataset (e.g. a high probability of churn like 0.78 might be at the 90th percentile)\n",
    "- use other autoML packages, such as TPOT, H2O, MLBox, etc, and compare performance and features with pycaret\n",
    "- create a class in your Python module to hold the functions that you created\n",
    "- accept user input to specify a file using a tool such as Python's `input()` function, the `click` package for command-line arguments, or a GUI\n",
    "- Use the unmodified churn data (new_unmodified_churn_data.csv) in your Python script. This will require adding the same preprocessing steps from week 2 since this data is like the original unmodified dataset from week 1."
   ]
  },
  {
   "cell_type": "code",
   "execution_count": 22,
   "id": "476ed965",
   "metadata": {
    "scrolled": true
   },
   "outputs": [
    {
     "data": {
      "text/html": [
       "<div>\n",
       "<style scoped>\n",
       "    .dataframe tbody tr th:only-of-type {\n",
       "        vertical-align: middle;\n",
       "    }\n",
       "\n",
       "    .dataframe tbody tr th {\n",
       "        vertical-align: top;\n",
       "    }\n",
       "\n",
       "    .dataframe thead th {\n",
       "        text-align: right;\n",
       "    }\n",
       "</style>\n",
       "<table border=\"1\" class=\"dataframe\">\n",
       "  <thead>\n",
       "    <tr style=\"text-align: right;\">\n",
       "      <th></th>\n",
       "      <th>tenure</th>\n",
       "      <th>PhoneService</th>\n",
       "      <th>Contract</th>\n",
       "      <th>PaymentMethod</th>\n",
       "      <th>MonthlyCharges</th>\n",
       "      <th>TotalCharges</th>\n",
       "      <th>Churn</th>\n",
       "    </tr>\n",
       "    <tr>\n",
       "      <th>customerID</th>\n",
       "      <th></th>\n",
       "      <th></th>\n",
       "      <th></th>\n",
       "      <th></th>\n",
       "      <th></th>\n",
       "      <th></th>\n",
       "      <th></th>\n",
       "    </tr>\n",
       "  </thead>\n",
       "  <tbody>\n",
       "    <tr>\n",
       "      <th>7590-VHVEG</th>\n",
       "      <td>1</td>\n",
       "      <td>No</td>\n",
       "      <td>Month-to-month</td>\n",
       "      <td>Electronic check</td>\n",
       "      <td>29.85</td>\n",
       "      <td>29.85</td>\n",
       "      <td>No</td>\n",
       "    </tr>\n",
       "    <tr>\n",
       "      <th>5575-GNVDE</th>\n",
       "      <td>34</td>\n",
       "      <td>Yes</td>\n",
       "      <td>One year</td>\n",
       "      <td>Mailed check</td>\n",
       "      <td>56.95</td>\n",
       "      <td>1889.50</td>\n",
       "      <td>No</td>\n",
       "    </tr>\n",
       "    <tr>\n",
       "      <th>3668-QPYBK</th>\n",
       "      <td>2</td>\n",
       "      <td>Yes</td>\n",
       "      <td>Month-to-month</td>\n",
       "      <td>Mailed check</td>\n",
       "      <td>53.85</td>\n",
       "      <td>108.15</td>\n",
       "      <td>Yes</td>\n",
       "    </tr>\n",
       "    <tr>\n",
       "      <th>7795-CFOCW</th>\n",
       "      <td>45</td>\n",
       "      <td>No</td>\n",
       "      <td>One year</td>\n",
       "      <td>Bank transfer (automatic)</td>\n",
       "      <td>42.30</td>\n",
       "      <td>1840.75</td>\n",
       "      <td>No</td>\n",
       "    </tr>\n",
       "    <tr>\n",
       "      <th>9237-HQITU</th>\n",
       "      <td>2</td>\n",
       "      <td>Yes</td>\n",
       "      <td>Month-to-month</td>\n",
       "      <td>Electronic check</td>\n",
       "      <td>70.70</td>\n",
       "      <td>151.65</td>\n",
       "      <td>Yes</td>\n",
       "    </tr>\n",
       "    <tr>\n",
       "      <th>...</th>\n",
       "      <td>...</td>\n",
       "      <td>...</td>\n",
       "      <td>...</td>\n",
       "      <td>...</td>\n",
       "      <td>...</td>\n",
       "      <td>...</td>\n",
       "      <td>...</td>\n",
       "    </tr>\n",
       "    <tr>\n",
       "      <th>6840-RESVB</th>\n",
       "      <td>24</td>\n",
       "      <td>Yes</td>\n",
       "      <td>One year</td>\n",
       "      <td>Mailed check</td>\n",
       "      <td>84.80</td>\n",
       "      <td>1990.50</td>\n",
       "      <td>No</td>\n",
       "    </tr>\n",
       "    <tr>\n",
       "      <th>2234-XADUH</th>\n",
       "      <td>72</td>\n",
       "      <td>Yes</td>\n",
       "      <td>One year</td>\n",
       "      <td>Credit card (automatic)</td>\n",
       "      <td>103.20</td>\n",
       "      <td>7362.90</td>\n",
       "      <td>No</td>\n",
       "    </tr>\n",
       "    <tr>\n",
       "      <th>4801-JZAZL</th>\n",
       "      <td>11</td>\n",
       "      <td>No</td>\n",
       "      <td>Month-to-month</td>\n",
       "      <td>Electronic check</td>\n",
       "      <td>29.60</td>\n",
       "      <td>346.45</td>\n",
       "      <td>No</td>\n",
       "    </tr>\n",
       "    <tr>\n",
       "      <th>8361-LTMKD</th>\n",
       "      <td>4</td>\n",
       "      <td>Yes</td>\n",
       "      <td>Month-to-month</td>\n",
       "      <td>Mailed check</td>\n",
       "      <td>74.40</td>\n",
       "      <td>306.60</td>\n",
       "      <td>Yes</td>\n",
       "    </tr>\n",
       "    <tr>\n",
       "      <th>3186-AJIEK</th>\n",
       "      <td>66</td>\n",
       "      <td>Yes</td>\n",
       "      <td>Two year</td>\n",
       "      <td>Bank transfer (automatic)</td>\n",
       "      <td>105.65</td>\n",
       "      <td>6844.50</td>\n",
       "      <td>No</td>\n",
       "    </tr>\n",
       "  </tbody>\n",
       "</table>\n",
       "<p>7043 rows × 7 columns</p>\n",
       "</div>"
      ],
      "text/plain": [
       "            tenure PhoneService        Contract              PaymentMethod  \\\n",
       "customerID                                                                   \n",
       "7590-VHVEG       1           No  Month-to-month           Electronic check   \n",
       "5575-GNVDE      34          Yes        One year               Mailed check   \n",
       "3668-QPYBK       2          Yes  Month-to-month               Mailed check   \n",
       "7795-CFOCW      45           No        One year  Bank transfer (automatic)   \n",
       "9237-HQITU       2          Yes  Month-to-month           Electronic check   \n",
       "...            ...          ...             ...                        ...   \n",
       "6840-RESVB      24          Yes        One year               Mailed check   \n",
       "2234-XADUH      72          Yes        One year    Credit card (automatic)   \n",
       "4801-JZAZL      11           No  Month-to-month           Electronic check   \n",
       "8361-LTMKD       4          Yes  Month-to-month               Mailed check   \n",
       "3186-AJIEK      66          Yes        Two year  Bank transfer (automatic)   \n",
       "\n",
       "            MonthlyCharges  TotalCharges Churn  \n",
       "customerID                                      \n",
       "7590-VHVEG           29.85         29.85    No  \n",
       "5575-GNVDE           56.95       1889.50    No  \n",
       "3668-QPYBK           53.85        108.15   Yes  \n",
       "7795-CFOCW           42.30       1840.75    No  \n",
       "9237-HQITU           70.70        151.65   Yes  \n",
       "...                    ...           ...   ...  \n",
       "6840-RESVB           84.80       1990.50    No  \n",
       "2234-XADUH          103.20       7362.90    No  \n",
       "4801-JZAZL           29.60        346.45    No  \n",
       "8361-LTMKD           74.40        306.60   Yes  \n",
       "3186-AJIEK          105.65       6844.50    No  \n",
       "\n",
       "[7043 rows x 7 columns]"
      ]
     },
     "execution_count": 22,
     "metadata": {},
     "output_type": "execute_result"
    }
   ],
   "source": [
    "import pandas as pd\n",
    "\n",
    "df = pd.read_csv('churn_data.csv', index_col='customerID')\n",
    "df"
   ]
  },
  {
   "cell_type": "code",
   "execution_count": 23,
   "id": "6b5ab9ae",
   "metadata": {},
   "outputs": [],
   "source": [
    "from pycaret.classification import ClassificationExperiment"
   ]
  },
  {
   "cell_type": "code",
   "execution_count": 24,
   "id": "6afa06fc",
   "metadata": {},
   "outputs": [],
   "source": [
    "automl = ClassificationExperiment() "
   ]
  },
  {
   "cell_type": "code",
   "execution_count": 25,
   "id": "84dc1241",
   "metadata": {
    "scrolled": false
   },
   "outputs": [
    {
     "data": {
      "text/html": [
       "<style type=\"text/css\">\n",
       "#T_db2fc_row12_col1 {\n",
       "  background-color: lightgreen;\n",
       "}\n",
       "</style>\n",
       "<table id=\"T_db2fc\">\n",
       "  <thead>\n",
       "    <tr>\n",
       "      <th class=\"blank level0\" >&nbsp;</th>\n",
       "      <th id=\"T_db2fc_level0_col0\" class=\"col_heading level0 col0\" >Description</th>\n",
       "      <th id=\"T_db2fc_level0_col1\" class=\"col_heading level0 col1\" >Value</th>\n",
       "    </tr>\n",
       "  </thead>\n",
       "  <tbody>\n",
       "    <tr>\n",
       "      <th id=\"T_db2fc_level0_row0\" class=\"row_heading level0 row0\" >0</th>\n",
       "      <td id=\"T_db2fc_row0_col0\" class=\"data row0 col0\" >Session id</td>\n",
       "      <td id=\"T_db2fc_row0_col1\" class=\"data row0 col1\" >2541</td>\n",
       "    </tr>\n",
       "    <tr>\n",
       "      <th id=\"T_db2fc_level0_row1\" class=\"row_heading level0 row1\" >1</th>\n",
       "      <td id=\"T_db2fc_row1_col0\" class=\"data row1 col0\" >Target</td>\n",
       "      <td id=\"T_db2fc_row1_col1\" class=\"data row1 col1\" >Churn</td>\n",
       "    </tr>\n",
       "    <tr>\n",
       "      <th id=\"T_db2fc_level0_row2\" class=\"row_heading level0 row2\" >2</th>\n",
       "      <td id=\"T_db2fc_row2_col0\" class=\"data row2 col0\" >Target type</td>\n",
       "      <td id=\"T_db2fc_row2_col1\" class=\"data row2 col1\" >Binary</td>\n",
       "    </tr>\n",
       "    <tr>\n",
       "      <th id=\"T_db2fc_level0_row3\" class=\"row_heading level0 row3\" >3</th>\n",
       "      <td id=\"T_db2fc_row3_col0\" class=\"data row3 col0\" >Target mapping</td>\n",
       "      <td id=\"T_db2fc_row3_col1\" class=\"data row3 col1\" >No: 0, Yes: 1</td>\n",
       "    </tr>\n",
       "    <tr>\n",
       "      <th id=\"T_db2fc_level0_row4\" class=\"row_heading level0 row4\" >4</th>\n",
       "      <td id=\"T_db2fc_row4_col0\" class=\"data row4 col0\" >Original data shape</td>\n",
       "      <td id=\"T_db2fc_row4_col1\" class=\"data row4 col1\" >(7043, 7)</td>\n",
       "    </tr>\n",
       "    <tr>\n",
       "      <th id=\"T_db2fc_level0_row5\" class=\"row_heading level0 row5\" >5</th>\n",
       "      <td id=\"T_db2fc_row5_col0\" class=\"data row5 col0\" >Transformed data shape</td>\n",
       "      <td id=\"T_db2fc_row5_col1\" class=\"data row5 col1\" >(7043, 12)</td>\n",
       "    </tr>\n",
       "    <tr>\n",
       "      <th id=\"T_db2fc_level0_row6\" class=\"row_heading level0 row6\" >6</th>\n",
       "      <td id=\"T_db2fc_row6_col0\" class=\"data row6 col0\" >Transformed train set shape</td>\n",
       "      <td id=\"T_db2fc_row6_col1\" class=\"data row6 col1\" >(4930, 12)</td>\n",
       "    </tr>\n",
       "    <tr>\n",
       "      <th id=\"T_db2fc_level0_row7\" class=\"row_heading level0 row7\" >7</th>\n",
       "      <td id=\"T_db2fc_row7_col0\" class=\"data row7 col0\" >Transformed test set shape</td>\n",
       "      <td id=\"T_db2fc_row7_col1\" class=\"data row7 col1\" >(2113, 12)</td>\n",
       "    </tr>\n",
       "    <tr>\n",
       "      <th id=\"T_db2fc_level0_row8\" class=\"row_heading level0 row8\" >8</th>\n",
       "      <td id=\"T_db2fc_row8_col0\" class=\"data row8 col0\" >Ordinal features</td>\n",
       "      <td id=\"T_db2fc_row8_col1\" class=\"data row8 col1\" >1</td>\n",
       "    </tr>\n",
       "    <tr>\n",
       "      <th id=\"T_db2fc_level0_row9\" class=\"row_heading level0 row9\" >9</th>\n",
       "      <td id=\"T_db2fc_row9_col0\" class=\"data row9 col0\" >Numeric features</td>\n",
       "      <td id=\"T_db2fc_row9_col1\" class=\"data row9 col1\" >3</td>\n",
       "    </tr>\n",
       "    <tr>\n",
       "      <th id=\"T_db2fc_level0_row10\" class=\"row_heading level0 row10\" >10</th>\n",
       "      <td id=\"T_db2fc_row10_col0\" class=\"data row10 col0\" >Categorical features</td>\n",
       "      <td id=\"T_db2fc_row10_col1\" class=\"data row10 col1\" >3</td>\n",
       "    </tr>\n",
       "    <tr>\n",
       "      <th id=\"T_db2fc_level0_row11\" class=\"row_heading level0 row11\" >11</th>\n",
       "      <td id=\"T_db2fc_row11_col0\" class=\"data row11 col0\" >Rows with missing values</td>\n",
       "      <td id=\"T_db2fc_row11_col1\" class=\"data row11 col1\" >0.2%</td>\n",
       "    </tr>\n",
       "    <tr>\n",
       "      <th id=\"T_db2fc_level0_row12\" class=\"row_heading level0 row12\" >12</th>\n",
       "      <td id=\"T_db2fc_row12_col0\" class=\"data row12 col0\" >Preprocess</td>\n",
       "      <td id=\"T_db2fc_row12_col1\" class=\"data row12 col1\" >True</td>\n",
       "    </tr>\n",
       "    <tr>\n",
       "      <th id=\"T_db2fc_level0_row13\" class=\"row_heading level0 row13\" >13</th>\n",
       "      <td id=\"T_db2fc_row13_col0\" class=\"data row13 col0\" >Imputation type</td>\n",
       "      <td id=\"T_db2fc_row13_col1\" class=\"data row13 col1\" >simple</td>\n",
       "    </tr>\n",
       "    <tr>\n",
       "      <th id=\"T_db2fc_level0_row14\" class=\"row_heading level0 row14\" >14</th>\n",
       "      <td id=\"T_db2fc_row14_col0\" class=\"data row14 col0\" >Numeric imputation</td>\n",
       "      <td id=\"T_db2fc_row14_col1\" class=\"data row14 col1\" >mean</td>\n",
       "    </tr>\n",
       "    <tr>\n",
       "      <th id=\"T_db2fc_level0_row15\" class=\"row_heading level0 row15\" >15</th>\n",
       "      <td id=\"T_db2fc_row15_col0\" class=\"data row15 col0\" >Categorical imputation</td>\n",
       "      <td id=\"T_db2fc_row15_col1\" class=\"data row15 col1\" >mode</td>\n",
       "    </tr>\n",
       "    <tr>\n",
       "      <th id=\"T_db2fc_level0_row16\" class=\"row_heading level0 row16\" >16</th>\n",
       "      <td id=\"T_db2fc_row16_col0\" class=\"data row16 col0\" >Maximum one-hot encoding</td>\n",
       "      <td id=\"T_db2fc_row16_col1\" class=\"data row16 col1\" >25</td>\n",
       "    </tr>\n",
       "    <tr>\n",
       "      <th id=\"T_db2fc_level0_row17\" class=\"row_heading level0 row17\" >17</th>\n",
       "      <td id=\"T_db2fc_row17_col0\" class=\"data row17 col0\" >Encoding method</td>\n",
       "      <td id=\"T_db2fc_row17_col1\" class=\"data row17 col1\" >None</td>\n",
       "    </tr>\n",
       "    <tr>\n",
       "      <th id=\"T_db2fc_level0_row18\" class=\"row_heading level0 row18\" >18</th>\n",
       "      <td id=\"T_db2fc_row18_col0\" class=\"data row18 col0\" >Fold Generator</td>\n",
       "      <td id=\"T_db2fc_row18_col1\" class=\"data row18 col1\" >StratifiedKFold</td>\n",
       "    </tr>\n",
       "    <tr>\n",
       "      <th id=\"T_db2fc_level0_row19\" class=\"row_heading level0 row19\" >19</th>\n",
       "      <td id=\"T_db2fc_row19_col0\" class=\"data row19 col0\" >Fold Number</td>\n",
       "      <td id=\"T_db2fc_row19_col1\" class=\"data row19 col1\" >10</td>\n",
       "    </tr>\n",
       "    <tr>\n",
       "      <th id=\"T_db2fc_level0_row20\" class=\"row_heading level0 row20\" >20</th>\n",
       "      <td id=\"T_db2fc_row20_col0\" class=\"data row20 col0\" >CPU Jobs</td>\n",
       "      <td id=\"T_db2fc_row20_col1\" class=\"data row20 col1\" >-1</td>\n",
       "    </tr>\n",
       "    <tr>\n",
       "      <th id=\"T_db2fc_level0_row21\" class=\"row_heading level0 row21\" >21</th>\n",
       "      <td id=\"T_db2fc_row21_col0\" class=\"data row21 col0\" >Use GPU</td>\n",
       "      <td id=\"T_db2fc_row21_col1\" class=\"data row21 col1\" >False</td>\n",
       "    </tr>\n",
       "    <tr>\n",
       "      <th id=\"T_db2fc_level0_row22\" class=\"row_heading level0 row22\" >22</th>\n",
       "      <td id=\"T_db2fc_row22_col0\" class=\"data row22 col0\" >Log Experiment</td>\n",
       "      <td id=\"T_db2fc_row22_col1\" class=\"data row22 col1\" >False</td>\n",
       "    </tr>\n",
       "    <tr>\n",
       "      <th id=\"T_db2fc_level0_row23\" class=\"row_heading level0 row23\" >23</th>\n",
       "      <td id=\"T_db2fc_row23_col0\" class=\"data row23 col0\" >Experiment Name</td>\n",
       "      <td id=\"T_db2fc_row23_col1\" class=\"data row23 col1\" >clf-default-name</td>\n",
       "    </tr>\n",
       "    <tr>\n",
       "      <th id=\"T_db2fc_level0_row24\" class=\"row_heading level0 row24\" >24</th>\n",
       "      <td id=\"T_db2fc_row24_col0\" class=\"data row24 col0\" >USI</td>\n",
       "      <td id=\"T_db2fc_row24_col1\" class=\"data row24 col1\" >f4b0</td>\n",
       "    </tr>\n",
       "  </tbody>\n",
       "</table>\n"
      ],
      "text/plain": [
       "<pandas.io.formats.style.Styler at 0x1381a1190>"
      ]
     },
     "metadata": {},
     "output_type": "display_data"
    },
    {
     "data": {
      "text/plain": [
       "<pycaret.classification.oop.ClassificationExperiment at 0x136559690>"
      ]
     },
     "execution_count": 25,
     "metadata": {},
     "output_type": "execute_result"
    }
   ],
   "source": [
    "automl.setup(df, target='Churn')"
   ]
  },
  {
   "cell_type": "code",
   "execution_count": 26,
   "id": "146fd34b",
   "metadata": {},
   "outputs": [
    {
     "data": {
      "text/plain": [
       "<pycaret.classification.oop.ClassificationExperiment at 0x136559690>"
      ]
     },
     "execution_count": 26,
     "metadata": {},
     "output_type": "execute_result"
    }
   ],
   "source": [
    "automl"
   ]
  },
  {
   "cell_type": "code",
   "execution_count": 27,
   "id": "5d7c071d",
   "metadata": {},
   "outputs": [
    {
     "data": {
      "text/html": [],
      "text/plain": [
       "<IPython.core.display.HTML object>"
      ]
     },
     "metadata": {},
     "output_type": "display_data"
    },
    {
     "data": {
      "text/html": [
       "<style type=\"text/css\">\n",
       "#T_93f37 th {\n",
       "  text-align: left;\n",
       "}\n",
       "#T_93f37_row0_col0, #T_93f37_row0_col2, #T_93f37_row0_col4, #T_93f37_row0_col6, #T_93f37_row0_col7, #T_93f37_row1_col0, #T_93f37_row1_col1, #T_93f37_row1_col3, #T_93f37_row1_col4, #T_93f37_row1_col5, #T_93f37_row1_col6, #T_93f37_row1_col7, #T_93f37_row2_col0, #T_93f37_row2_col1, #T_93f37_row2_col2, #T_93f37_row2_col3, #T_93f37_row2_col4, #T_93f37_row2_col5, #T_93f37_row3_col0, #T_93f37_row3_col1, #T_93f37_row3_col2, #T_93f37_row3_col3, #T_93f37_row3_col4, #T_93f37_row3_col5, #T_93f37_row3_col6, #T_93f37_row3_col7, #T_93f37_row4_col0, #T_93f37_row4_col1, #T_93f37_row4_col2, #T_93f37_row4_col3, #T_93f37_row4_col4, #T_93f37_row4_col5, #T_93f37_row4_col6, #T_93f37_row4_col7, #T_93f37_row5_col0, #T_93f37_row5_col1, #T_93f37_row5_col2, #T_93f37_row5_col3, #T_93f37_row5_col4, #T_93f37_row5_col5, #T_93f37_row5_col6, #T_93f37_row5_col7, #T_93f37_row6_col0, #T_93f37_row6_col1, #T_93f37_row6_col2, #T_93f37_row6_col3, #T_93f37_row6_col4, #T_93f37_row6_col5, #T_93f37_row6_col6, #T_93f37_row6_col7, #T_93f37_row7_col0, #T_93f37_row7_col1, #T_93f37_row7_col2, #T_93f37_row7_col3, #T_93f37_row7_col4, #T_93f37_row7_col5, #T_93f37_row7_col6, #T_93f37_row7_col7, #T_93f37_row8_col0, #T_93f37_row8_col1, #T_93f37_row8_col2, #T_93f37_row8_col3, #T_93f37_row8_col4, #T_93f37_row8_col5, #T_93f37_row8_col6, #T_93f37_row8_col7, #T_93f37_row9_col0, #T_93f37_row9_col1, #T_93f37_row9_col2, #T_93f37_row9_col3, #T_93f37_row9_col4, #T_93f37_row9_col5, #T_93f37_row9_col6, #T_93f37_row9_col7, #T_93f37_row10_col0, #T_93f37_row10_col1, #T_93f37_row10_col2, #T_93f37_row10_col3, #T_93f37_row10_col4, #T_93f37_row10_col5, #T_93f37_row10_col6, #T_93f37_row10_col7, #T_93f37_row11_col0, #T_93f37_row11_col1, #T_93f37_row11_col2, #T_93f37_row11_col3, #T_93f37_row11_col5, #T_93f37_row11_col6, #T_93f37_row11_col7, #T_93f37_row12_col0, #T_93f37_row12_col1, #T_93f37_row12_col2, #T_93f37_row12_col3, #T_93f37_row12_col4, #T_93f37_row12_col5, #T_93f37_row12_col6, #T_93f37_row12_col7, #T_93f37_row13_col0, #T_93f37_row13_col1, #T_93f37_row13_col2, #T_93f37_row13_col3, #T_93f37_row13_col4, #T_93f37_row13_col5, #T_93f37_row13_col6, #T_93f37_row13_col7 {\n",
       "  text-align: left;\n",
       "}\n",
       "#T_93f37_row0_col1, #T_93f37_row0_col3, #T_93f37_row0_col5, #T_93f37_row1_col2, #T_93f37_row2_col6, #T_93f37_row2_col7, #T_93f37_row11_col4 {\n",
       "  text-align: left;\n",
       "  background-color: yellow;\n",
       "}\n",
       "#T_93f37_row0_col8, #T_93f37_row1_col8, #T_93f37_row2_col8, #T_93f37_row4_col8, #T_93f37_row5_col8, #T_93f37_row6_col8, #T_93f37_row7_col8, #T_93f37_row8_col8, #T_93f37_row9_col8, #T_93f37_row10_col8, #T_93f37_row11_col8, #T_93f37_row12_col8, #T_93f37_row13_col8 {\n",
       "  text-align: left;\n",
       "  background-color: lightgrey;\n",
       "}\n",
       "#T_93f37_row3_col8 {\n",
       "  text-align: left;\n",
       "  background-color: yellow;\n",
       "  background-color: lightgrey;\n",
       "}\n",
       "</style>\n",
       "<table id=\"T_93f37\">\n",
       "  <thead>\n",
       "    <tr>\n",
       "      <th class=\"blank level0\" >&nbsp;</th>\n",
       "      <th id=\"T_93f37_level0_col0\" class=\"col_heading level0 col0\" >Model</th>\n",
       "      <th id=\"T_93f37_level0_col1\" class=\"col_heading level0 col1\" >Accuracy</th>\n",
       "      <th id=\"T_93f37_level0_col2\" class=\"col_heading level0 col2\" >AUC</th>\n",
       "      <th id=\"T_93f37_level0_col3\" class=\"col_heading level0 col3\" >Recall</th>\n",
       "      <th id=\"T_93f37_level0_col4\" class=\"col_heading level0 col4\" >Prec.</th>\n",
       "      <th id=\"T_93f37_level0_col5\" class=\"col_heading level0 col5\" >F1</th>\n",
       "      <th id=\"T_93f37_level0_col6\" class=\"col_heading level0 col6\" >Kappa</th>\n",
       "      <th id=\"T_93f37_level0_col7\" class=\"col_heading level0 col7\" >MCC</th>\n",
       "      <th id=\"T_93f37_level0_col8\" class=\"col_heading level0 col8\" >TT (Sec)</th>\n",
       "    </tr>\n",
       "  </thead>\n",
       "  <tbody>\n",
       "    <tr>\n",
       "      <th id=\"T_93f37_level0_row0\" class=\"row_heading level0 row0\" >ada</th>\n",
       "      <td id=\"T_93f37_row0_col0\" class=\"data row0 col0\" >Ada Boost Classifier</td>\n",
       "      <td id=\"T_93f37_row0_col1\" class=\"data row0 col1\" >0.7897</td>\n",
       "      <td id=\"T_93f37_row0_col2\" class=\"data row0 col2\" >0.8344</td>\n",
       "      <td id=\"T_93f37_row0_col3\" class=\"data row0 col3\" >0.7897</td>\n",
       "      <td id=\"T_93f37_row0_col4\" class=\"data row0 col4\" >0.7795</td>\n",
       "      <td id=\"T_93f37_row0_col5\" class=\"data row0 col5\" >0.7813</td>\n",
       "      <td id=\"T_93f37_row0_col6\" class=\"data row0 col6\" >0.4229</td>\n",
       "      <td id=\"T_93f37_row0_col7\" class=\"data row0 col7\" >0.4285</td>\n",
       "      <td id=\"T_93f37_row0_col8\" class=\"data row0 col8\" >0.5360</td>\n",
       "    </tr>\n",
       "    <tr>\n",
       "      <th id=\"T_93f37_level0_row1\" class=\"row_heading level0 row1\" >gbc</th>\n",
       "      <td id=\"T_93f37_row1_col0\" class=\"data row1 col0\" >Gradient Boosting Classifier</td>\n",
       "      <td id=\"T_93f37_row1_col1\" class=\"data row1 col1\" >0.7880</td>\n",
       "      <td id=\"T_93f37_row1_col2\" class=\"data row1 col2\" >0.8350</td>\n",
       "      <td id=\"T_93f37_row1_col3\" class=\"data row1 col3\" >0.7880</td>\n",
       "      <td id=\"T_93f37_row1_col4\" class=\"data row1 col4\" >0.7769</td>\n",
       "      <td id=\"T_93f37_row1_col5\" class=\"data row1 col5\" >0.7786</td>\n",
       "      <td id=\"T_93f37_row1_col6\" class=\"data row1 col6\" >0.4145</td>\n",
       "      <td id=\"T_93f37_row1_col7\" class=\"data row1 col7\" >0.4210</td>\n",
       "      <td id=\"T_93f37_row1_col8\" class=\"data row1 col8\" >0.6460</td>\n",
       "    </tr>\n",
       "    <tr>\n",
       "      <th id=\"T_93f37_level0_row2\" class=\"row_heading level0 row2\" >lr</th>\n",
       "      <td id=\"T_93f37_row2_col0\" class=\"data row2 col0\" >Logistic Regression</td>\n",
       "      <td id=\"T_93f37_row2_col1\" class=\"data row2 col1\" >0.7878</td>\n",
       "      <td id=\"T_93f37_row2_col2\" class=\"data row2 col2\" >0.8332</td>\n",
       "      <td id=\"T_93f37_row2_col3\" class=\"data row2 col3\" >0.7878</td>\n",
       "      <td id=\"T_93f37_row2_col4\" class=\"data row2 col4\" >0.7797</td>\n",
       "      <td id=\"T_93f37_row2_col5\" class=\"data row2 col5\" >0.7808</td>\n",
       "      <td id=\"T_93f37_row2_col6\" class=\"data row2 col6\" >0.4246</td>\n",
       "      <td id=\"T_93f37_row2_col7\" class=\"data row2 col7\" >0.4297</td>\n",
       "      <td id=\"T_93f37_row2_col8\" class=\"data row2 col8\" >2.3030</td>\n",
       "    </tr>\n",
       "    <tr>\n",
       "      <th id=\"T_93f37_level0_row3\" class=\"row_heading level0 row3\" >lda</th>\n",
       "      <td id=\"T_93f37_row3_col0\" class=\"data row3 col0\" >Linear Discriminant Analysis</td>\n",
       "      <td id=\"T_93f37_row3_col1\" class=\"data row3 col1\" >0.7840</td>\n",
       "      <td id=\"T_93f37_row3_col2\" class=\"data row3 col2\" >0.8218</td>\n",
       "      <td id=\"T_93f37_row3_col3\" class=\"data row3 col3\" >0.7840</td>\n",
       "      <td id=\"T_93f37_row3_col4\" class=\"data row3 col4\" >0.7747</td>\n",
       "      <td id=\"T_93f37_row3_col5\" class=\"data row3 col5\" >0.7768</td>\n",
       "      <td id=\"T_93f37_row3_col6\" class=\"data row3 col6\" >0.4133</td>\n",
       "      <td id=\"T_93f37_row3_col7\" class=\"data row3 col7\" >0.4177</td>\n",
       "      <td id=\"T_93f37_row3_col8\" class=\"data row3 col8\" >0.1820</td>\n",
       "    </tr>\n",
       "    <tr>\n",
       "      <th id=\"T_93f37_level0_row4\" class=\"row_heading level0 row4\" >ridge</th>\n",
       "      <td id=\"T_93f37_row4_col0\" class=\"data row4 col0\" >Ridge Classifier</td>\n",
       "      <td id=\"T_93f37_row4_col1\" class=\"data row4 col1\" >0.7838</td>\n",
       "      <td id=\"T_93f37_row4_col2\" class=\"data row4 col2\" >0.0000</td>\n",
       "      <td id=\"T_93f37_row4_col3\" class=\"data row4 col3\" >0.7838</td>\n",
       "      <td id=\"T_93f37_row4_col4\" class=\"data row4 col4\" >0.7691</td>\n",
       "      <td id=\"T_93f37_row4_col5\" class=\"data row4 col5\" >0.7691</td>\n",
       "      <td id=\"T_93f37_row4_col6\" class=\"data row4 col6\" >0.3829</td>\n",
       "      <td id=\"T_93f37_row4_col7\" class=\"data row4 col7\" >0.3950</td>\n",
       "      <td id=\"T_93f37_row4_col8\" class=\"data row4 col8\" >0.2970</td>\n",
       "    </tr>\n",
       "    <tr>\n",
       "      <th id=\"T_93f37_level0_row5\" class=\"row_heading level0 row5\" >lightgbm</th>\n",
       "      <td id=\"T_93f37_row5_col0\" class=\"data row5 col0\" >Light Gradient Boosting Machine</td>\n",
       "      <td id=\"T_93f37_row5_col1\" class=\"data row5 col1\" >0.7755</td>\n",
       "      <td id=\"T_93f37_row5_col2\" class=\"data row5 col2\" >0.8246</td>\n",
       "      <td id=\"T_93f37_row5_col3\" class=\"data row5 col3\" >0.7755</td>\n",
       "      <td id=\"T_93f37_row5_col4\" class=\"data row5 col4\" >0.7660</td>\n",
       "      <td id=\"T_93f37_row5_col5\" class=\"data row5 col5\" >0.7691</td>\n",
       "      <td id=\"T_93f37_row5_col6\" class=\"data row5 col6\" >0.3944</td>\n",
       "      <td id=\"T_93f37_row5_col7\" class=\"data row5 col7\" >0.3970</td>\n",
       "      <td id=\"T_93f37_row5_col8\" class=\"data row5 col8\" >0.7420</td>\n",
       "    </tr>\n",
       "    <tr>\n",
       "      <th id=\"T_93f37_level0_row6\" class=\"row_heading level0 row6\" >rf</th>\n",
       "      <td id=\"T_93f37_row6_col0\" class=\"data row6 col0\" >Random Forest Classifier</td>\n",
       "      <td id=\"T_93f37_row6_col1\" class=\"data row6 col1\" >0.7570</td>\n",
       "      <td id=\"T_93f37_row6_col2\" class=\"data row6 col2\" >0.7923</td>\n",
       "      <td id=\"T_93f37_row6_col3\" class=\"data row6 col3\" >0.7570</td>\n",
       "      <td id=\"T_93f37_row6_col4\" class=\"data row6 col4\" >0.7450</td>\n",
       "      <td id=\"T_93f37_row6_col5\" class=\"data row6 col5\" >0.7489</td>\n",
       "      <td id=\"T_93f37_row6_col6\" class=\"data row6 col6\" >0.3396</td>\n",
       "      <td id=\"T_93f37_row6_col7\" class=\"data row6 col7\" >0.3427</td>\n",
       "      <td id=\"T_93f37_row6_col8\" class=\"data row6 col8\" >0.7670</td>\n",
       "    </tr>\n",
       "    <tr>\n",
       "      <th id=\"T_93f37_level0_row7\" class=\"row_heading level0 row7\" >knn</th>\n",
       "      <td id=\"T_93f37_row7_col0\" class=\"data row7 col0\" >K Neighbors Classifier</td>\n",
       "      <td id=\"T_93f37_row7_col1\" class=\"data row7 col1\" >0.7552</td>\n",
       "      <td id=\"T_93f37_row7_col2\" class=\"data row7 col2\" >0.7416</td>\n",
       "      <td id=\"T_93f37_row7_col3\" class=\"data row7 col3\" >0.7552</td>\n",
       "      <td id=\"T_93f37_row7_col4\" class=\"data row7 col4\" >0.7413</td>\n",
       "      <td id=\"T_93f37_row7_col5\" class=\"data row7 col5\" >0.7454</td>\n",
       "      <td id=\"T_93f37_row7_col6\" class=\"data row7 col6\" >0.3278</td>\n",
       "      <td id=\"T_93f37_row7_col7\" class=\"data row7 col7\" >0.3321</td>\n",
       "      <td id=\"T_93f37_row7_col8\" class=\"data row7 col8\" >0.3530</td>\n",
       "    </tr>\n",
       "    <tr>\n",
       "      <th id=\"T_93f37_level0_row8\" class=\"row_heading level0 row8\" >et</th>\n",
       "      <td id=\"T_93f37_row8_col0\" class=\"data row8 col0\" >Extra Trees Classifier</td>\n",
       "      <td id=\"T_93f37_row8_col1\" class=\"data row8 col1\" >0.7507</td>\n",
       "      <td id=\"T_93f37_row8_col2\" class=\"data row8 col2\" >0.7661</td>\n",
       "      <td id=\"T_93f37_row8_col3\" class=\"data row8 col3\" >0.7507</td>\n",
       "      <td id=\"T_93f37_row8_col4\" class=\"data row8 col4\" >0.7417</td>\n",
       "      <td id=\"T_93f37_row8_col5\" class=\"data row8 col5\" >0.7450</td>\n",
       "      <td id=\"T_93f37_row8_col6\" class=\"data row8 col6\" >0.3338</td>\n",
       "      <td id=\"T_93f37_row8_col7\" class=\"data row8 col7\" >0.3356</td>\n",
       "      <td id=\"T_93f37_row8_col8\" class=\"data row8 col8\" >0.6270</td>\n",
       "    </tr>\n",
       "    <tr>\n",
       "      <th id=\"T_93f37_level0_row9\" class=\"row_heading level0 row9\" >dummy</th>\n",
       "      <td id=\"T_93f37_row9_col0\" class=\"data row9 col0\" >Dummy Classifier</td>\n",
       "      <td id=\"T_93f37_row9_col1\" class=\"data row9 col1\" >0.7347</td>\n",
       "      <td id=\"T_93f37_row9_col2\" class=\"data row9 col2\" >0.5000</td>\n",
       "      <td id=\"T_93f37_row9_col3\" class=\"data row9 col3\" >0.7347</td>\n",
       "      <td id=\"T_93f37_row9_col4\" class=\"data row9 col4\" >0.5398</td>\n",
       "      <td id=\"T_93f37_row9_col5\" class=\"data row9 col5\" >0.6223</td>\n",
       "      <td id=\"T_93f37_row9_col6\" class=\"data row9 col6\" >0.0000</td>\n",
       "      <td id=\"T_93f37_row9_col7\" class=\"data row9 col7\" >0.0000</td>\n",
       "      <td id=\"T_93f37_row9_col8\" class=\"data row9 col8\" >0.3300</td>\n",
       "    </tr>\n",
       "    <tr>\n",
       "      <th id=\"T_93f37_level0_row10\" class=\"row_heading level0 row10\" >dt</th>\n",
       "      <td id=\"T_93f37_row10_col0\" class=\"data row10 col0\" >Decision Tree Classifier</td>\n",
       "      <td id=\"T_93f37_row10_col1\" class=\"data row10 col1\" >0.7213</td>\n",
       "      <td id=\"T_93f37_row10_col2\" class=\"data row10 col2\" >0.6469</td>\n",
       "      <td id=\"T_93f37_row10_col3\" class=\"data row10 col3\" >0.7213</td>\n",
       "      <td id=\"T_93f37_row10_col4\" class=\"data row10 col4\" >0.7215</td>\n",
       "      <td id=\"T_93f37_row10_col5\" class=\"data row10 col5\" >0.7212</td>\n",
       "      <td id=\"T_93f37_row10_col6\" class=\"data row10 col6\" >0.2851</td>\n",
       "      <td id=\"T_93f37_row10_col7\" class=\"data row10 col7\" >0.2853</td>\n",
       "      <td id=\"T_93f37_row10_col8\" class=\"data row10 col8\" >0.2570</td>\n",
       "    </tr>\n",
       "    <tr>\n",
       "      <th id=\"T_93f37_level0_row11\" class=\"row_heading level0 row11\" >nb</th>\n",
       "      <td id=\"T_93f37_row11_col0\" class=\"data row11 col0\" >Naive Bayes</td>\n",
       "      <td id=\"T_93f37_row11_col1\" class=\"data row11 col1\" >0.6803</td>\n",
       "      <td id=\"T_93f37_row11_col2\" class=\"data row11 col2\" >0.8049</td>\n",
       "      <td id=\"T_93f37_row11_col3\" class=\"data row11 col3\" >0.6803</td>\n",
       "      <td id=\"T_93f37_row11_col4\" class=\"data row11 col4\" >0.7925</td>\n",
       "      <td id=\"T_93f37_row11_col5\" class=\"data row11 col5\" >0.6987</td>\n",
       "      <td id=\"T_93f37_row11_col6\" class=\"data row11 col6\" >0.3628</td>\n",
       "      <td id=\"T_93f37_row11_col7\" class=\"data row11 col7\" >0.4118</td>\n",
       "      <td id=\"T_93f37_row11_col8\" class=\"data row11 col8\" >0.2830</td>\n",
       "    </tr>\n",
       "    <tr>\n",
       "      <th id=\"T_93f37_level0_row12\" class=\"row_heading level0 row12\" >svm</th>\n",
       "      <td id=\"T_93f37_row12_col0\" class=\"data row12 col0\" >SVM - Linear Kernel</td>\n",
       "      <td id=\"T_93f37_row12_col1\" class=\"data row12 col1\" >0.6753</td>\n",
       "      <td id=\"T_93f37_row12_col2\" class=\"data row12 col2\" >0.0000</td>\n",
       "      <td id=\"T_93f37_row12_col3\" class=\"data row12 col3\" >0.6753</td>\n",
       "      <td id=\"T_93f37_row12_col4\" class=\"data row12 col4\" >0.7547</td>\n",
       "      <td id=\"T_93f37_row12_col5\" class=\"data row12 col5\" >0.6559</td>\n",
       "      <td id=\"T_93f37_row12_col6\" class=\"data row12 col6\" >0.2597</td>\n",
       "      <td id=\"T_93f37_row12_col7\" class=\"data row12 col7\" >0.3039</td>\n",
       "      <td id=\"T_93f37_row12_col8\" class=\"data row12 col8\" >0.3260</td>\n",
       "    </tr>\n",
       "    <tr>\n",
       "      <th id=\"T_93f37_level0_row13\" class=\"row_heading level0 row13\" >qda</th>\n",
       "      <td id=\"T_93f37_row13_col0\" class=\"data row13 col0\" >Quadratic Discriminant Analysis</td>\n",
       "      <td id=\"T_93f37_row13_col1\" class=\"data row13 col1\" >0.5781</td>\n",
       "      <td id=\"T_93f37_row13_col2\" class=\"data row13 col2\" >0.5673</td>\n",
       "      <td id=\"T_93f37_row13_col3\" class=\"data row13 col3\" >0.5781</td>\n",
       "      <td id=\"T_93f37_row13_col4\" class=\"data row13 col4\" >0.6492</td>\n",
       "      <td id=\"T_93f37_row13_col5\" class=\"data row13 col5\" >0.5608</td>\n",
       "      <td id=\"T_93f37_row13_col6\" class=\"data row13 col6\" >0.0555</td>\n",
       "      <td id=\"T_93f37_row13_col7\" class=\"data row13 col7\" >0.0733</td>\n",
       "      <td id=\"T_93f37_row13_col8\" class=\"data row13 col8\" >0.2450</td>\n",
       "    </tr>\n",
       "  </tbody>\n",
       "</table>\n"
      ],
      "text/plain": [
       "<pandas.io.formats.style.Styler at 0x1365922d0>"
      ]
     },
     "metadata": {},
     "output_type": "display_data"
    },
    {
     "data": {
      "text/html": [],
      "text/plain": [
       "<IPython.core.display.HTML object>"
      ]
     },
     "metadata": {},
     "output_type": "display_data"
    }
   ],
   "source": [
    "best_model = automl.compare_models()"
   ]
  },
  {
   "cell_type": "code",
   "execution_count": 28,
   "id": "05275731",
   "metadata": {},
   "outputs": [
    {
     "data": {
      "text/html": [
       "<style>#sk-container-id-2 {color: black;background-color: white;}#sk-container-id-2 pre{padding: 0;}#sk-container-id-2 div.sk-toggleable {background-color: white;}#sk-container-id-2 label.sk-toggleable__label {cursor: pointer;display: block;width: 100%;margin-bottom: 0;padding: 0.3em;box-sizing: border-box;text-align: center;}#sk-container-id-2 label.sk-toggleable__label-arrow:before {content: \"▸\";float: left;margin-right: 0.25em;color: #696969;}#sk-container-id-2 label.sk-toggleable__label-arrow:hover:before {color: black;}#sk-container-id-2 div.sk-estimator:hover label.sk-toggleable__label-arrow:before {color: black;}#sk-container-id-2 div.sk-toggleable__content {max-height: 0;max-width: 0;overflow: hidden;text-align: left;background-color: #f0f8ff;}#sk-container-id-2 div.sk-toggleable__content pre {margin: 0.2em;color: black;border-radius: 0.25em;background-color: #f0f8ff;}#sk-container-id-2 input.sk-toggleable__control:checked~div.sk-toggleable__content {max-height: 200px;max-width: 100%;overflow: auto;}#sk-container-id-2 input.sk-toggleable__control:checked~label.sk-toggleable__label-arrow:before {content: \"▾\";}#sk-container-id-2 div.sk-estimator input.sk-toggleable__control:checked~label.sk-toggleable__label {background-color: #d4ebff;}#sk-container-id-2 div.sk-label input.sk-toggleable__control:checked~label.sk-toggleable__label {background-color: #d4ebff;}#sk-container-id-2 input.sk-hidden--visually {border: 0;clip: rect(1px 1px 1px 1px);clip: rect(1px, 1px, 1px, 1px);height: 1px;margin: -1px;overflow: hidden;padding: 0;position: absolute;width: 1px;}#sk-container-id-2 div.sk-estimator {font-family: monospace;background-color: #f0f8ff;border: 1px dotted black;border-radius: 0.25em;box-sizing: border-box;margin-bottom: 0.5em;}#sk-container-id-2 div.sk-estimator:hover {background-color: #d4ebff;}#sk-container-id-2 div.sk-parallel-item::after {content: \"\";width: 100%;border-bottom: 1px solid gray;flex-grow: 1;}#sk-container-id-2 div.sk-label:hover label.sk-toggleable__label {background-color: #d4ebff;}#sk-container-id-2 div.sk-serial::before {content: \"\";position: absolute;border-left: 1px solid gray;box-sizing: border-box;top: 0;bottom: 0;left: 50%;z-index: 0;}#sk-container-id-2 div.sk-serial {display: flex;flex-direction: column;align-items: center;background-color: white;padding-right: 0.2em;padding-left: 0.2em;position: relative;}#sk-container-id-2 div.sk-item {position: relative;z-index: 1;}#sk-container-id-2 div.sk-parallel {display: flex;align-items: stretch;justify-content: center;background-color: white;position: relative;}#sk-container-id-2 div.sk-item::before, #sk-container-id-2 div.sk-parallel-item::before {content: \"\";position: absolute;border-left: 1px solid gray;box-sizing: border-box;top: 0;bottom: 0;left: 50%;z-index: -1;}#sk-container-id-2 div.sk-parallel-item {display: flex;flex-direction: column;z-index: 1;position: relative;background-color: white;}#sk-container-id-2 div.sk-parallel-item:first-child::after {align-self: flex-end;width: 50%;}#sk-container-id-2 div.sk-parallel-item:last-child::after {align-self: flex-start;width: 50%;}#sk-container-id-2 div.sk-parallel-item:only-child::after {width: 0;}#sk-container-id-2 div.sk-dashed-wrapped {border: 1px dashed gray;margin: 0 0.4em 0.5em 0.4em;box-sizing: border-box;padding-bottom: 0.4em;background-color: white;}#sk-container-id-2 div.sk-label label {font-family: monospace;font-weight: bold;display: inline-block;line-height: 1.2em;}#sk-container-id-2 div.sk-label-container {text-align: center;}#sk-container-id-2 div.sk-container {/* jupyter's `normalize.less` sets `[hidden] { display: none; }` but bootstrap.min.css set `[hidden] { display: none !important; }` so we also need the `!important` here to be able to override the default hidden behavior on the sphinx rendered scikit-learn.org. See: https://github.com/scikit-learn/scikit-learn/issues/21755 */display: inline-block !important;position: relative;}#sk-container-id-2 div.sk-text-repr-fallback {display: none;}</style><div id=\"sk-container-id-2\" class=\"sk-top-container\"><div class=\"sk-text-repr-fallback\"><pre>AdaBoostClassifier(algorithm=&#x27;SAMME.R&#x27;, base_estimator=&#x27;deprecated&#x27;,\n",
       "                   estimator=None, learning_rate=1.0, n_estimators=50,\n",
       "                   random_state=2541)</pre><b>In a Jupyter environment, please rerun this cell to show the HTML representation or trust the notebook. <br />On GitHub, the HTML representation is unable to render, please try loading this page with nbviewer.org.</b></div><div class=\"sk-container\" hidden><div class=\"sk-item\"><div class=\"sk-estimator sk-toggleable\"><input class=\"sk-toggleable__control sk-hidden--visually\" id=\"sk-estimator-id-2\" type=\"checkbox\" checked><label for=\"sk-estimator-id-2\" class=\"sk-toggleable__label sk-toggleable__label-arrow\">AdaBoostClassifier</label><div class=\"sk-toggleable__content\"><pre>AdaBoostClassifier(algorithm=&#x27;SAMME.R&#x27;, base_estimator=&#x27;deprecated&#x27;,\n",
       "                   estimator=None, learning_rate=1.0, n_estimators=50,\n",
       "                   random_state=2541)</pre></div></div></div></div></div>"
      ],
      "text/plain": [
       "AdaBoostClassifier(algorithm='SAMME.R', base_estimator='deprecated',\n",
       "                   estimator=None, learning_rate=1.0, n_estimators=50,\n",
       "                   random_state=2541)"
      ]
     },
     "execution_count": 28,
     "metadata": {},
     "output_type": "execute_result"
    }
   ],
   "source": [
    "best_model"
   ]
  },
  {
   "cell_type": "code",
   "execution_count": 40,
   "id": "f981f40a",
   "metadata": {},
   "outputs": [
    {
     "data": {
      "application/vnd.jupyter.widget-view+json": {
       "model_id": "dc1ee5b5fa004875910dd3c58d9ebb9d",
       "version_major": 2,
       "version_minor": 0
      },
      "text/plain": [
       "interactive(children=(ToggleButtons(description='Plot Type:', icons=('',), options=(('Pipeline Plot', 'pipelin…"
      ]
     },
     "metadata": {},
     "output_type": "display_data"
    }
   ],
   "source": [
    "automl.evaluate_model(best_model)"
   ]
  },
  {
   "cell_type": "code",
   "execution_count": 29,
   "id": "5725cd55",
   "metadata": {
    "scrolled": false
   },
   "outputs": [
    {
     "data": {
      "text/html": [],
      "text/plain": [
       "<IPython.core.display.HTML object>"
      ]
     },
     "metadata": {},
     "output_type": "display_data"
    },
    {
     "data": {
      "image/png": "[encoded data removed]",
      "text/plain": [
       "<Figure size 800x550 with 1 Axes>"
      ]
     },
     "metadata": {},
     "output_type": "display_data"
    }
   ],
   "source": [
    "automl.plot_model(best_model)"
   ]
  },
  {
   "cell_type": "markdown",
   "id": "42b301b2",
   "metadata": {},
   "source": [
    "The plot above represents the accuracy of churn rate prediction in this model. 0 represents no churn and has an accuracy of 0.84 in the mode. 1 represents yes churn and also has an accuracy of 0.84. If there was any data points below the 45 degree black dotted line, that would represent how often the model predicted a false positive rate.  "
   ]
  },
  {
   "cell_type": "code",
   "execution_count": 30,
   "id": "79d6b79a",
   "metadata": {
    "scrolled": false
   },
   "outputs": [
    {
     "data": {
      "text/html": [],
      "text/plain": [
       "<IPython.core.display.HTML object>"
      ]
     },
     "metadata": {},
     "output_type": "display_data"
    },
    {
     "data": {
      "image/png": "[encoded data removed]",
      "text/plain": [
       "<Figure size 800x550 with 1 Axes>"
      ]
     },
     "metadata": {},
     "output_type": "display_data"
    }
   ],
   "source": [
    "automl.plot_model(best_model, plot = 'confusion_matrix')"
   ]
  },
  {
   "cell_type": "markdown",
   "id": "0cb2e22f",
   "metadata": {},
   "source": [
    "The confusion matrix represents different accuracies of the program. There was 265 predictions that was predicted no churn when churn was actually present. There was 296 yes churn predictions that was actually true. There was 149 yes churn predictions that was actually no churn. There was 1403 no churn predictons that were accurate. "
   ]
  },
  {
   "cell_type": "code",
   "execution_count": 31,
   "id": "583a6b17",
   "metadata": {},
   "outputs": [
    {
     "data": {
      "text/plain": [
       "(1, 7)"
      ]
     },
     "execution_count": 31,
     "metadata": {},
     "output_type": "execute_result"
    }
   ],
   "source": [
    "df.iloc[-2:-1].shape"
   ]
  },
  {
   "cell_type": "code",
   "execution_count": 32,
   "id": "76489f4e",
   "metadata": {},
   "outputs": [
    {
     "data": {
      "text/plain": [
       "(7,)"
      ]
     },
     "execution_count": 32,
     "metadata": {},
     "output_type": "execute_result"
    }
   ],
   "source": [
    "df.iloc[-2].shape"
   ]
  },
  {
   "cell_type": "code",
   "execution_count": 33,
   "id": "b616b6c6",
   "metadata": {},
   "outputs": [
    {
     "data": {
      "text/html": [
       "<style type=\"text/css\">\n",
       "</style>\n",
       "<table id=\"T_ec349\">\n",
       "  <thead>\n",
       "    <tr>\n",
       "      <th class=\"blank level0\" >&nbsp;</th>\n",
       "      <th id=\"T_ec349_level0_col0\" class=\"col_heading level0 col0\" >Model</th>\n",
       "      <th id=\"T_ec349_level0_col1\" class=\"col_heading level0 col1\" >Accuracy</th>\n",
       "      <th id=\"T_ec349_level0_col2\" class=\"col_heading level0 col2\" >AUC</th>\n",
       "      <th id=\"T_ec349_level0_col3\" class=\"col_heading level0 col3\" >Recall</th>\n",
       "      <th id=\"T_ec349_level0_col4\" class=\"col_heading level0 col4\" >Prec.</th>\n",
       "      <th id=\"T_ec349_level0_col5\" class=\"col_heading level0 col5\" >F1</th>\n",
       "      <th id=\"T_ec349_level0_col6\" class=\"col_heading level0 col6\" >Kappa</th>\n",
       "      <th id=\"T_ec349_level0_col7\" class=\"col_heading level0 col7\" >MCC</th>\n",
       "    </tr>\n",
       "  </thead>\n",
       "  <tbody>\n",
       "    <tr>\n",
       "      <th id=\"T_ec349_level0_row0\" class=\"row_heading level0 row0\" >0</th>\n",
       "      <td id=\"T_ec349_row0_col0\" class=\"data row0 col0\" >Ada Boost Classifier</td>\n",
       "      <td id=\"T_ec349_row0_col1\" class=\"data row0 col1\" >1.0000</td>\n",
       "      <td id=\"T_ec349_row0_col2\" class=\"data row0 col2\" >0</td>\n",
       "      <td id=\"T_ec349_row0_col3\" class=\"data row0 col3\" >1.0000</td>\n",
       "      <td id=\"T_ec349_row0_col4\" class=\"data row0 col4\" >1.0000</td>\n",
       "      <td id=\"T_ec349_row0_col5\" class=\"data row0 col5\" >1.0000</td>\n",
       "      <td id=\"T_ec349_row0_col6\" class=\"data row0 col6\" >nan</td>\n",
       "      <td id=\"T_ec349_row0_col7\" class=\"data row0 col7\" >0.0000</td>\n",
       "    </tr>\n",
       "  </tbody>\n",
       "</table>\n"
      ],
      "text/plain": [
       "<pandas.io.formats.style.Styler at 0x1365bb410>"
      ]
     },
     "metadata": {},
     "output_type": "display_data"
    },
    {
     "data": {
      "text/html": [
       "<div>\n",
       "<style scoped>\n",
       "    .dataframe tbody tr th:only-of-type {\n",
       "        vertical-align: middle;\n",
       "    }\n",
       "\n",
       "    .dataframe tbody tr th {\n",
       "        vertical-align: top;\n",
       "    }\n",
       "\n",
       "    .dataframe thead th {\n",
       "        text-align: right;\n",
       "    }\n",
       "</style>\n",
       "<table border=\"1\" class=\"dataframe\">\n",
       "  <thead>\n",
       "    <tr style=\"text-align: right;\">\n",
       "      <th></th>\n",
       "      <th>tenure</th>\n",
       "      <th>PhoneService</th>\n",
       "      <th>Contract</th>\n",
       "      <th>PaymentMethod</th>\n",
       "      <th>MonthlyCharges</th>\n",
       "      <th>TotalCharges</th>\n",
       "      <th>Churn</th>\n",
       "      <th>prediction_label</th>\n",
       "      <th>prediction_score</th>\n",
       "    </tr>\n",
       "    <tr>\n",
       "      <th>customerID</th>\n",
       "      <th></th>\n",
       "      <th></th>\n",
       "      <th></th>\n",
       "      <th></th>\n",
       "      <th></th>\n",
       "      <th></th>\n",
       "      <th></th>\n",
       "      <th></th>\n",
       "      <th></th>\n",
       "    </tr>\n",
       "  </thead>\n",
       "  <tbody>\n",
       "    <tr>\n",
       "      <th>8361-LTMKD</th>\n",
       "      <td>4</td>\n",
       "      <td>Yes</td>\n",
       "      <td>Month-to-month</td>\n",
       "      <td>Mailed check</td>\n",
       "      <td>74.400002</td>\n",
       "      <td>306.600006</td>\n",
       "      <td>Yes</td>\n",
       "      <td>Yes</td>\n",
       "      <td>0.5003</td>\n",
       "    </tr>\n",
       "  </tbody>\n",
       "</table>\n",
       "</div>"
      ],
      "text/plain": [
       "            tenure PhoneService        Contract PaymentMethod  MonthlyCharges  \\\n",
       "customerID                                                                      \n",
       "8361-LTMKD       4          Yes  Month-to-month  Mailed check       74.400002   \n",
       "\n",
       "            TotalCharges Churn prediction_label  prediction_score  \n",
       "customerID                                                         \n",
       "8361-LTMKD    306.600006   Yes              Yes            0.5003  "
      ]
     },
     "execution_count": 33,
     "metadata": {},
     "output_type": "execute_result"
    }
   ],
   "source": [
    "automl.predict_model(best_model, df.iloc[-2:-1])"
   ]
  },
  {
   "cell_type": "code",
   "execution_count": 13,
   "id": "caf1b541",
   "metadata": {},
   "outputs": [
    {
     "data": {
      "text/html": [
       "<style type=\"text/css\">\n",
       "</style>\n",
       "<table id=\"T_1c8fa\">\n",
       "  <thead>\n",
       "    <tr>\n",
       "      <th class=\"blank level0\" >&nbsp;</th>\n",
       "      <th id=\"T_1c8fa_level0_col0\" class=\"col_heading level0 col0\" >Model</th>\n",
       "      <th id=\"T_1c8fa_level0_col1\" class=\"col_heading level0 col1\" >Accuracy</th>\n",
       "      <th id=\"T_1c8fa_level0_col2\" class=\"col_heading level0 col2\" >AUC</th>\n",
       "      <th id=\"T_1c8fa_level0_col3\" class=\"col_heading level0 col3\" >Recall</th>\n",
       "      <th id=\"T_1c8fa_level0_col4\" class=\"col_heading level0 col4\" >Prec.</th>\n",
       "      <th id=\"T_1c8fa_level0_col5\" class=\"col_heading level0 col5\" >F1</th>\n",
       "      <th id=\"T_1c8fa_level0_col6\" class=\"col_heading level0 col6\" >Kappa</th>\n",
       "      <th id=\"T_1c8fa_level0_col7\" class=\"col_heading level0 col7\" >MCC</th>\n",
       "    </tr>\n",
       "  </thead>\n",
       "  <tbody>\n",
       "    <tr>\n",
       "      <th id=\"T_1c8fa_level0_row0\" class=\"row_heading level0 row0\" >0</th>\n",
       "      <td id=\"T_1c8fa_row0_col0\" class=\"data row0 col0\" >K Neighbors Classifier</td>\n",
       "      <td id=\"T_1c8fa_row0_col1\" class=\"data row0 col1\" >0.8117</td>\n",
       "      <td id=\"T_1c8fa_row0_col2\" class=\"data row0 col2\" >0.8449</td>\n",
       "      <td id=\"T_1c8fa_row0_col3\" class=\"data row0 col3\" >0.8117</td>\n",
       "      <td id=\"T_1c8fa_row0_col4\" class=\"data row0 col4\" >0.8023</td>\n",
       "      <td id=\"T_1c8fa_row0_col5\" class=\"data row0 col5\" >0.8032</td>\n",
       "      <td id=\"T_1c8fa_row0_col6\" class=\"data row0 col6\" >0.4788</td>\n",
       "      <td id=\"T_1c8fa_row0_col7\" class=\"data row0 col7\" >0.4858</td>\n",
       "    </tr>\n",
       "  </tbody>\n",
       "</table>\n"
      ],
      "text/plain": [
       "<pandas.io.formats.style.Styler at 0x1365b8ad0>"
      ]
     },
     "metadata": {},
     "output_type": "display_data"
    }
   ],
   "source": [
    "predictions = automl.predict_model(best_model, data=df)"
   ]
  },
  {
   "cell_type": "code",
   "execution_count": 14,
   "id": "53baf5b2",
   "metadata": {},
   "outputs": [
    {
     "data": {
      "text/html": [
       "<div>\n",
       "<style scoped>\n",
       "    .dataframe tbody tr th:only-of-type {\n",
       "        vertical-align: middle;\n",
       "    }\n",
       "\n",
       "    .dataframe tbody tr th {\n",
       "        vertical-align: top;\n",
       "    }\n",
       "\n",
       "    .dataframe thead th {\n",
       "        text-align: right;\n",
       "    }\n",
       "</style>\n",
       "<table border=\"1\" class=\"dataframe\">\n",
       "  <thead>\n",
       "    <tr style=\"text-align: right;\">\n",
       "      <th></th>\n",
       "      <th>customerID</th>\n",
       "      <th>tenure</th>\n",
       "      <th>PhoneService</th>\n",
       "      <th>Contract</th>\n",
       "      <th>PaymentMethod</th>\n",
       "      <th>MonthlyCharges</th>\n",
       "      <th>TotalCharges</th>\n",
       "      <th>Churn</th>\n",
       "      <th>prediction_label</th>\n",
       "      <th>prediction_score</th>\n",
       "    </tr>\n",
       "  </thead>\n",
       "  <tbody>\n",
       "    <tr>\n",
       "      <th>0</th>\n",
       "      <td>7590-VHVEG</td>\n",
       "      <td>1</td>\n",
       "      <td>No</td>\n",
       "      <td>Month-to-month</td>\n",
       "      <td>Electronic check</td>\n",
       "      <td>29.850000</td>\n",
       "      <td>29.850000</td>\n",
       "      <td>No</td>\n",
       "      <td>No</td>\n",
       "      <td>0.6</td>\n",
       "    </tr>\n",
       "    <tr>\n",
       "      <th>1</th>\n",
       "      <td>5575-GNVDE</td>\n",
       "      <td>34</td>\n",
       "      <td>Yes</td>\n",
       "      <td>One year</td>\n",
       "      <td>Mailed check</td>\n",
       "      <td>56.950001</td>\n",
       "      <td>1889.500000</td>\n",
       "      <td>No</td>\n",
       "      <td>No</td>\n",
       "      <td>0.8</td>\n",
       "    </tr>\n",
       "    <tr>\n",
       "      <th>2</th>\n",
       "      <td>3668-QPYBK</td>\n",
       "      <td>2</td>\n",
       "      <td>Yes</td>\n",
       "      <td>Month-to-month</td>\n",
       "      <td>Mailed check</td>\n",
       "      <td>53.849998</td>\n",
       "      <td>108.150002</td>\n",
       "      <td>Yes</td>\n",
       "      <td>Yes</td>\n",
       "      <td>0.6</td>\n",
       "    </tr>\n",
       "    <tr>\n",
       "      <th>3</th>\n",
       "      <td>7795-CFOCW</td>\n",
       "      <td>45</td>\n",
       "      <td>No</td>\n",
       "      <td>One year</td>\n",
       "      <td>Bank transfer (automatic)</td>\n",
       "      <td>42.299999</td>\n",
       "      <td>1840.750000</td>\n",
       "      <td>No</td>\n",
       "      <td>No</td>\n",
       "      <td>1.0</td>\n",
       "    </tr>\n",
       "    <tr>\n",
       "      <th>4</th>\n",
       "      <td>9237-HQITU</td>\n",
       "      <td>2</td>\n",
       "      <td>Yes</td>\n",
       "      <td>Month-to-month</td>\n",
       "      <td>Electronic check</td>\n",
       "      <td>70.699997</td>\n",
       "      <td>151.649994</td>\n",
       "      <td>Yes</td>\n",
       "      <td>No</td>\n",
       "      <td>0.6</td>\n",
       "    </tr>\n",
       "  </tbody>\n",
       "</table>\n",
       "</div>"
      ],
      "text/plain": [
       "   customerID  tenure PhoneService        Contract              PaymentMethod  \\\n",
       "0  7590-VHVEG       1           No  Month-to-month           Electronic check   \n",
       "1  5575-GNVDE      34          Yes        One year               Mailed check   \n",
       "2  3668-QPYBK       2          Yes  Month-to-month               Mailed check   \n",
       "3  7795-CFOCW      45           No        One year  Bank transfer (automatic)   \n",
       "4  9237-HQITU       2          Yes  Month-to-month           Electronic check   \n",
       "\n",
       "   MonthlyCharges  TotalCharges Churn prediction_label  prediction_score  \n",
       "0       29.850000     29.850000    No               No               0.6  \n",
       "1       56.950001   1889.500000    No               No               0.8  \n",
       "2       53.849998    108.150002   Yes              Yes               0.6  \n",
       "3       42.299999   1840.750000    No               No               1.0  \n",
       "4       70.699997    151.649994   Yes               No               0.6  "
      ]
     },
     "execution_count": 14,
     "metadata": {},
     "output_type": "execute_result"
    }
   ],
   "source": [
    "predictions.head()"
   ]
  },
  {
   "cell_type": "code",
   "execution_count": 34,
   "id": "7701ded1",
   "metadata": {},
   "outputs": [
    {
     "name": "stdout",
     "output_type": "stream",
     "text": [
      "Transformation Pipeline and Model Successfully Saved\n"
     ]
    },
    {
     "data": {
      "text/plain": [
       "(Pipeline(memory=Memory(location=None),\n",
       "          steps=[('label_encoding',\n",
       "                  TransformerWrapperWithInverse(exclude=None, include=None,\n",
       "                                                transformer=LabelEncoder())),\n",
       "                 ('numerical_imputer',\n",
       "                  TransformerWrapper(exclude=None,\n",
       "                                     include=['tenure', 'MonthlyCharges',\n",
       "                                              'TotalCharges'],\n",
       "                                     transformer=SimpleImputer(add_indicator=False,\n",
       "                                                               copy=True,\n",
       "                                                               fill_value=None,\n",
       "                                                               keep_empty_features=False,...\n",
       "                                     include=['Contract', 'PaymentMethod'],\n",
       "                                     transformer=OneHotEncoder(cols=['Contract',\n",
       "                                                                     'PaymentMethod'],\n",
       "                                                               drop_invariant=False,\n",
       "                                                               handle_missing='return_nan',\n",
       "                                                               handle_unknown='value',\n",
       "                                                               return_df=True,\n",
       "                                                               use_cat_names=True,\n",
       "                                                               verbose=0))),\n",
       "                 ('trained_model',\n",
       "                  AdaBoostClassifier(algorithm='SAMME.R',\n",
       "                                     base_estimator='deprecated', estimator=None,\n",
       "                                     learning_rate=1.0, n_estimators=50,\n",
       "                                     random_state=2541))],\n",
       "          verbose=False),\n",
       " 'pycaret_model.pkl')"
      ]
     },
     "execution_count": 34,
     "metadata": {},
     "output_type": "execute_result"
    }
   ],
   "source": [
    "automl.save_model(best_model, 'pycaret_model')"
   ]
  },
  {
   "cell_type": "code",
   "execution_count": 35,
   "id": "769888d4",
   "metadata": {},
   "outputs": [
    {
     "name": "stdout",
     "output_type": "stream",
     "text": [
      "Transformation Pipeline and Model Successfully Loaded\n"
     ]
    }
   ],
   "source": [
    "new_pycaret = ClassificationExperiment()\n",
    "loaded_model = new_pycaret.load_model('pycaret_model')"
   ]
  },
  {
   "cell_type": "code",
   "execution_count": 36,
   "id": "7ab3f483",
   "metadata": {},
   "outputs": [],
   "source": [
    "new_data = df.iloc[-2:-1]"
   ]
  },
  {
   "cell_type": "code",
   "execution_count": 37,
   "id": "0bf145d9",
   "metadata": {
    "scrolled": true
   },
   "outputs": [
    {
     "data": {
      "text/html": [
       "<div>\n",
       "<style scoped>\n",
       "    .dataframe tbody tr th:only-of-type {\n",
       "        vertical-align: middle;\n",
       "    }\n",
       "\n",
       "    .dataframe tbody tr th {\n",
       "        vertical-align: top;\n",
       "    }\n",
       "\n",
       "    .dataframe thead th {\n",
       "        text-align: right;\n",
       "    }\n",
       "</style>\n",
       "<table border=\"1\" class=\"dataframe\">\n",
       "  <thead>\n",
       "    <tr style=\"text-align: right;\">\n",
       "      <th></th>\n",
       "      <th>tenure</th>\n",
       "      <th>PhoneService</th>\n",
       "      <th>Contract</th>\n",
       "      <th>PaymentMethod</th>\n",
       "      <th>MonthlyCharges</th>\n",
       "      <th>TotalCharges</th>\n",
       "      <th>Churn</th>\n",
       "      <th>prediction_label</th>\n",
       "      <th>prediction_score</th>\n",
       "    </tr>\n",
       "    <tr>\n",
       "      <th>customerID</th>\n",
       "      <th></th>\n",
       "      <th></th>\n",
       "      <th></th>\n",
       "      <th></th>\n",
       "      <th></th>\n",
       "      <th></th>\n",
       "      <th></th>\n",
       "      <th></th>\n",
       "      <th></th>\n",
       "    </tr>\n",
       "  </thead>\n",
       "  <tbody>\n",
       "    <tr>\n",
       "      <th>8361-LTMKD</th>\n",
       "      <td>4</td>\n",
       "      <td>Yes</td>\n",
       "      <td>Month-to-month</td>\n",
       "      <td>Mailed check</td>\n",
       "      <td>74.400002</td>\n",
       "      <td>306.600006</td>\n",
       "      <td>Yes</td>\n",
       "      <td>Yes</td>\n",
       "      <td>0.5003</td>\n",
       "    </tr>\n",
       "  </tbody>\n",
       "</table>\n",
       "</div>"
      ],
      "text/plain": [
       "            tenure PhoneService        Contract PaymentMethod  MonthlyCharges  \\\n",
       "customerID                                                                      \n",
       "8361-LTMKD       4          Yes  Month-to-month  Mailed check       74.400002   \n",
       "\n",
       "            TotalCharges Churn prediction_label  prediction_score  \n",
       "customerID                                                         \n",
       "8361-LTMKD    306.600006   Yes              Yes            0.5003  "
      ]
     },
     "execution_count": 37,
     "metadata": {},
     "output_type": "execute_result"
    }
   ],
   "source": [
    "new_pycaret.predict_model(loaded_model, new_data)"
   ]
  },
  {
   "cell_type": "markdown",
   "id": "29cadc19",
   "metadata": {},
   "source": [
    "# Making a Python module to make predictions"
   ]
  },
  {
   "cell_type": "code",
   "execution_count": 19,
   "id": "d9149295",
   "metadata": {},
   "outputs": [
    {
     "name": "stdout",
     "output_type": "stream",
     "text": [
      "The file 'churn_data.csv' exists in the current working directory.\n"
     ]
    }
   ],
   "source": [
    "import os\n",
    "\n",
    "# File name\n",
    "file_name = 'churn_data.csv'\n",
    "\n",
    "# Check if the file exists in the current working directory\n",
    "file_exists = os.path.exists(file_name)\n",
    "\n",
    "if file_exists:\n",
    "    print(f\"The file '{file_name}' exists in the current working directory.\")\n",
    "else:\n",
    "    print(f\"The file '{file_name}' does not exist in the current working directory.\")\n"
   ]
  },
  {
   "cell_type": "code",
   "execution_count": 38,
   "id": "b230093c",
   "metadata": {},
   "outputs": [
    {
     "data": {
      "text/html": [
       "<style>pre { line-height: 125%; }\n",
       "td.linenos .normal { color: inherit; background-color: transparent; padding-left: 5px; padding-right: 5px; }\n",
       "span.linenos { color: inherit; background-color: transparent; padding-left: 5px; padding-right: 5px; }\n",
       "td.linenos .special { color: #000000; background-color: #ffffc0; padding-left: 5px; padding-right: 5px; }\n",
       "span.linenos.special { color: #000000; background-color: #ffffc0; padding-left: 5px; padding-right: 5px; }\n",
       ".output_html .hll { background-color: #ffffcc }\n",
       ".output_html { background: #f8f8f8; }\n",
       ".output_html .c { color: #3D7B7B; font-style: italic } /* Comment */\n",
       ".output_html .err { border: 1px solid #FF0000 } /* Error */\n",
       ".output_html .k { color: #008000; font-weight: bold } /* Keyword */\n",
       ".output_html .o { color: #666666 } /* Operator */\n",
       ".output_html .ch { color: #3D7B7B; font-style: italic } /* Comment.Hashbang */\n",
       ".output_html .cm { color: #3D7B7B; font-style: italic } /* Comment.Multiline */\n",
       ".output_html .cp { color: #9C6500 } /* Comment.Preproc */\n",
       ".output_html .cpf { color: #3D7B7B; font-style: italic } /* Comment.PreprocFile */\n",
       ".output_html .c1 { color: #3D7B7B; font-style: italic } /* Comment.Single */\n",
       ".output_html .cs { color: #3D7B7B; font-style: italic } /* Comment.Special */\n",
       ".output_html .gd { color: #A00000 } /* Generic.Deleted */\n",
       ".output_html .ge { font-style: italic } /* Generic.Emph */\n",
       ".output_html .gr { color: #E40000 } /* Generic.Error */\n",
       ".output_html .gh { color: #000080; font-weight: bold } /* Generic.Heading */\n",
       ".output_html .gi { color: #008400 } /* Generic.Inserted */\n",
       ".output_html .go { color: #717171 } /* Generic.Output */\n",
       ".output_html .gp { color: #000080; font-weight: bold } /* Generic.Prompt */\n",
       ".output_html .gs { font-weight: bold } /* Generic.Strong */\n",
       ".output_html .gu { color: #800080; font-weight: bold } /* Generic.Subheading */\n",
       ".output_html .gt { color: #0044DD } /* Generic.Traceback */\n",
       ".output_html .kc { color: #008000; font-weight: bold } /* Keyword.Constant */\n",
       ".output_html .kd { color: #008000; font-weight: bold } /* Keyword.Declaration */\n",
       ".output_html .kn { color: #008000; font-weight: bold } /* Keyword.Namespace */\n",
       ".output_html .kp { color: #008000 } /* Keyword.Pseudo */\n",
       ".output_html .kr { color: #008000; font-weight: bold } /* Keyword.Reserved */\n",
       ".output_html .kt { color: #B00040 } /* Keyword.Type */\n",
       ".output_html .m { color: #666666 } /* Literal.Number */\n",
       ".output_html .s { color: #BA2121 } /* Literal.String */\n",
       ".output_html .na { color: #687822 } /* Name.Attribute */\n",
       ".output_html .nb { color: #008000 } /* Name.Builtin */\n",
       ".output_html .nc { color: #0000FF; font-weight: bold } /* Name.Class */\n",
       ".output_html .no { color: #880000 } /* Name.Constant */\n",
       ".output_html .nd { color: #AA22FF } /* Name.Decorator */\n",
       ".output_html .ni { color: #717171; font-weight: bold } /* Name.Entity */\n",
       ".output_html .ne { color: #CB3F38; font-weight: bold } /* Name.Exception */\n",
       ".output_html .nf { color: #0000FF } /* Name.Function */\n",
       ".output_html .nl { color: #767600 } /* Name.Label */\n",
       ".output_html .nn { color: #0000FF; font-weight: bold } /* Name.Namespace */\n",
       ".output_html .nt { color: #008000; font-weight: bold } /* Name.Tag */\n",
       ".output_html .nv { color: #19177C } /* Name.Variable */\n",
       ".output_html .ow { color: #AA22FF; font-weight: bold } /* Operator.Word */\n",
       ".output_html .w { color: #bbbbbb } /* Text.Whitespace */\n",
       ".output_html .mb { color: #666666 } /* Literal.Number.Bin */\n",
       ".output_html .mf { color: #666666 } /* Literal.Number.Float */\n",
       ".output_html .mh { color: #666666 } /* Literal.Number.Hex */\n",
       ".output_html .mi { color: #666666 } /* Literal.Number.Integer */\n",
       ".output_html .mo { color: #666666 } /* Literal.Number.Oct */\n",
       ".output_html .sa { color: #BA2121 } /* Literal.String.Affix */\n",
       ".output_html .sb { color: #BA2121 } /* Literal.String.Backtick */\n",
       ".output_html .sc { color: #BA2121 } /* Literal.String.Char */\n",
       ".output_html .dl { color: #BA2121 } /* Literal.String.Delimiter */\n",
       ".output_html .sd { color: #BA2121; font-style: italic } /* Literal.String.Doc */\n",
       ".output_html .s2 { color: #BA2121 } /* Literal.String.Double */\n",
       ".output_html .se { color: #AA5D1F; font-weight: bold } /* Literal.String.Escape */\n",
       ".output_html .sh { color: #BA2121 } /* Literal.String.Heredoc */\n",
       ".output_html .si { color: #A45A77; font-weight: bold } /* Literal.String.Interpol */\n",
       ".output_html .sx { color: #008000 } /* Literal.String.Other */\n",
       ".output_html .sr { color: #A45A77 } /* Literal.String.Regex */\n",
       ".output_html .s1 { color: #BA2121 } /* Literal.String.Single */\n",
       ".output_html .ss { color: #19177C } /* Literal.String.Symbol */\n",
       ".output_html .bp { color: #008000 } /* Name.Builtin.Pseudo */\n",
       ".output_html .fm { color: #0000FF } /* Name.Function.Magic */\n",
       ".output_html .vc { color: #19177C } /* Name.Variable.Class */\n",
       ".output_html .vg { color: #19177C } /* Name.Variable.Global */\n",
       ".output_html .vi { color: #19177C } /* Name.Variable.Instance */\n",
       ".output_html .vm { color: #19177C } /* Name.Variable.Magic */\n",
       ".output_html .il { color: #666666 } /* Literal.Number.Integer.Long */</style><div class=\"highlight\"><pre><span></span><span class=\"kn\">import</span> <span class=\"nn\">pandas</span> <span class=\"k\">as</span> <span class=\"nn\">pd</span> \n",
       "<span class=\"kn\">from</span> <span class=\"nn\">pycaret.classification</span> <span class=\"kn\">import</span> <span class=\"n\">ClassificationExperiment</span>\n",
       "\n",
       "<span class=\"k\">def</span> <span class=\"nf\">load_data</span><span class=\"p\">(</span><span class=\"n\">filepath</span><span class=\"p\">):</span>\n",
       "    <span class=\"n\">df</span> <span class=\"o\">=</span> <span class=\"n\">pd</span><span class=\"o\">.</span><span class=\"n\">read_csv</span><span class=\"p\">(</span><span class=\"n\">filepath</span><span class=\"p\">,</span> <span class=\"n\">index_col</span><span class=\"o\">=</span><span class=\"s1\">&#39;customerID&#39;</span><span class=\"p\">)</span>\n",
       "    <span class=\"k\">return</span> <span class=\"n\">df</span>\n",
       "\n",
       "<span class=\"k\">def</span> <span class=\"nf\">make_predictions</span><span class=\"p\">(</span><span class=\"n\">df</span><span class=\"p\">):</span>\n",
       "    <span class=\"n\">classifier</span> <span class=\"o\">=</span> <span class=\"n\">ClassificationExperiment</span><span class=\"p\">()</span>\n",
       "    <span class=\"n\">model</span> <span class=\"o\">=</span> <span class=\"n\">classifier</span><span class=\"o\">.</span><span class=\"n\">load_model</span><span class=\"p\">(</span><span class=\"s1\">&#39;pycaret_model&#39;</span><span class=\"p\">)</span>\n",
       "    <span class=\"n\">predictions</span> <span class=\"o\">=</span> <span class=\"n\">classifier</span><span class=\"o\">.</span><span class=\"n\">predict_model</span><span class=\"p\">(</span><span class=\"n\">model</span><span class=\"p\">,</span> <span class=\"n\">data</span><span class=\"o\">=</span><span class=\"n\">df</span><span class=\"p\">)</span>\n",
       "    <span class=\"k\">return</span> <span class=\"n\">predictions</span>\n",
       "\n",
       "\n",
       "<span class=\"k\">if</span> <span class=\"vm\">__name__</span> <span class=\"o\">==</span> <span class=\"s2\">&quot;__main__&quot;</span> <span class=\"p\">:</span>\n",
       "    <span class=\"n\">df</span> <span class=\"o\">=</span> <span class=\"n\">load_data</span><span class=\"p\">(</span><span class=\"s1\">&#39;churn_data.csv&#39;</span><span class=\"p\">)</span>\n",
       "    <span class=\"n\">predictions</span> <span class=\"o\">=</span> <span class=\"n\">make_predictions</span><span class=\"p\">(</span><span class=\"n\">df</span><span class=\"p\">)</span>\n",
       "    <span class=\"nb\">print</span><span class=\"p\">(</span><span class=\"s1\">&#39;predcitions:&#39;</span> <span class=\"p\">)</span>\n",
       "    <span class=\"nb\">print</span><span class=\"p\">(</span><span class=\"n\">predictions</span><span class=\"p\">)</span>\n",
       "    \n",
       "    \n",
       "</pre></div>\n"
      ],
      "text/latex": [
       "\\begin{Verbatim}[commandchars=\\\\\\{\\}]\n",
       "\\PY{k+kn}{import} \\PY{n+nn}{pandas} \\PY{k}{as} \\PY{n+nn}{pd} \n",
       "\\PY{k+kn}{from} \\PY{n+nn}{pycaret}\\PY{n+nn}{.}\\PY{n+nn}{classification} \\PY{k+kn}{import} \\PY{n}{ClassificationExperiment}\n",
       "\n",
       "\\PY{k}{def} \\PY{n+nf}{load\\PYZus{}data}\\PY{p}{(}\\PY{n}{filepath}\\PY{p}{)}\\PY{p}{:}\n",
       "    \\PY{n}{df} \\PY{o}{=} \\PY{n}{pd}\\PY{o}{.}\\PY{n}{read\\PYZus{}csv}\\PY{p}{(}\\PY{n}{filepath}\\PY{p}{,} \\PY{n}{index\\PYZus{}col}\\PY{o}{=}\\PY{l+s+s1}{\\PYZsq{}}\\PY{l+s+s1}{customerID}\\PY{l+s+s1}{\\PYZsq{}}\\PY{p}{)}\n",
       "    \\PY{k}{return} \\PY{n}{df}\n",
       "\n",
       "\\PY{k}{def} \\PY{n+nf}{make\\PYZus{}predictions}\\PY{p}{(}\\PY{n}{df}\\PY{p}{)}\\PY{p}{:}\n",
       "    \\PY{n}{classifier} \\PY{o}{=} \\PY{n}{ClassificationExperiment}\\PY{p}{(}\\PY{p}{)}\n",
       "    \\PY{n}{model} \\PY{o}{=} \\PY{n}{classifier}\\PY{o}{.}\\PY{n}{load\\PYZus{}model}\\PY{p}{(}\\PY{l+s+s1}{\\PYZsq{}}\\PY{l+s+s1}{pycaret\\PYZus{}model}\\PY{l+s+s1}{\\PYZsq{}}\\PY{p}{)}\n",
       "    \\PY{n}{predictions} \\PY{o}{=} \\PY{n}{classifier}\\PY{o}{.}\\PY{n}{predict\\PYZus{}model}\\PY{p}{(}\\PY{n}{model}\\PY{p}{,} \\PY{n}{data}\\PY{o}{=}\\PY{n}{df}\\PY{p}{)}\n",
       "    \\PY{k}{return} \\PY{n}{predictions}\n",
       "\n",
       "\n",
       "\\PY{k}{if} \\PY{n+nv+vm}{\\PYZus{}\\PYZus{}name\\PYZus{}\\PYZus{}} \\PY{o}{==} \\PY{l+s+s2}{\\PYZdq{}}\\PY{l+s+s2}{\\PYZus{}\\PYZus{}main\\PYZus{}\\PYZus{}}\\PY{l+s+s2}{\\PYZdq{}} \\PY{p}{:}\n",
       "    \\PY{n}{df} \\PY{o}{=} \\PY{n}{load\\PYZus{}data}\\PY{p}{(}\\PY{l+s+s1}{\\PYZsq{}}\\PY{l+s+s1}{churn\\PYZus{}data.csv}\\PY{l+s+s1}{\\PYZsq{}}\\PY{p}{)}\n",
       "    \\PY{n}{predictions} \\PY{o}{=} \\PY{n}{make\\PYZus{}predictions}\\PY{p}{(}\\PY{n}{df}\\PY{p}{)}\n",
       "    \\PY{n+nb}{print}\\PY{p}{(}\\PY{l+s+s1}{\\PYZsq{}}\\PY{l+s+s1}{predcitions:}\\PY{l+s+s1}{\\PYZsq{}} \\PY{p}{)}\n",
       "    \\PY{n+nb}{print}\\PY{p}{(}\\PY{n}{predictions}\\PY{p}{)}\n",
       "    \n",
       "    \n",
       "\\end{Verbatim}\n"
      ],
      "text/plain": [
       "import pandas as pd \n",
       "from pycaret.classification import ClassificationExperiment\n",
       "\n",
       "def load_data(filepath):\n",
       "    df = pd.read_csv(filepath, index_col='customerID')\n",
       "    return df\n",
       "\n",
       "def make_predictions(df):\n",
       "    classifier = ClassificationExperiment()\n",
       "    model = classifier.load_model('pycaret_model')\n",
       "    predictions = classifier.predict_model(model, data=df)\n",
       "    return predictions\n",
       "\n",
       "\n",
       "if __name__ == \"__main__\" :\n",
       "    df = load_data('churn_data.csv')\n",
       "    predictions = make_predictions(df)\n",
       "    print('predcitions:' )\n",
       "    print(predictions)\n",
       "    \n",
       "    "
      ]
     },
     "execution_count": 38,
     "metadata": {},
     "output_type": "execute_result"
    }
   ],
   "source": [
    "from IPython.display import Code\n",
    "\n",
    "Code('predict_Churn.py')"
   ]
  },
  {
   "cell_type": "code",
   "execution_count": 39,
   "id": "6b66466c",
   "metadata": {},
   "outputs": [
    {
     "name": "stdout",
     "output_type": "stream",
     "text": [
      "Transformation Pipeline and Model Successfully Loaded\n",
      "predcitions:\n",
      "            tenure PhoneService        Contract              PaymentMethod  \\\n",
      "customerID                                                                   \n",
      "7590-VHVEG       1           No  Month-to-month           Electronic check   \n",
      "5575-GNVDE      34          Yes        One year               Mailed check   \n",
      "3668-QPYBK       2          Yes  Month-to-month               Mailed check   \n",
      "7795-CFOCW      45           No        One year  Bank transfer (automatic)   \n",
      "9237-HQITU       2          Yes  Month-to-month           Electronic check   \n",
      "...            ...          ...             ...                        ...   \n",
      "6840-RESVB      24          Yes        One year               Mailed check   \n",
      "2234-XADUH      72          Yes        One year    Credit card (automatic)   \n",
      "4801-JZAZL      11           No  Month-to-month           Electronic check   \n",
      "8361-LTMKD       4          Yes  Month-to-month               Mailed check   \n",
      "3186-AJIEK      66          Yes        Two year  Bank transfer (automatic)   \n",
      "\n",
      "            MonthlyCharges  TotalCharges Churn prediction_label  \\\n",
      "customerID                                                        \n",
      "7590-VHVEG       29.850000     29.850000    No              Yes   \n",
      "5575-GNVDE       56.950001   1889.500000    No               No   \n",
      "3668-QPYBK       53.849998    108.150002   Yes               No   \n",
      "7795-CFOCW       42.299999   1840.750000    No               No   \n",
      "9237-HQITU       70.699997    151.649994   Yes              Yes   \n",
      "...                    ...           ...   ...              ...   \n",
      "6840-RESVB       84.800003   1990.500000    No               No   \n",
      "2234-XADUH      103.199997   7362.899902    No               No   \n",
      "4801-JZAZL       29.600000    346.450012    No               No   \n",
      "8361-LTMKD       74.400002    306.600006   Yes              Yes   \n",
      "3186-AJIEK      105.650002   6844.500000    No               No   \n",
      "\n",
      "            prediction_score  \n",
      "customerID                    \n",
      "7590-VHVEG            0.5062  \n",
      "5575-GNVDE            0.5173  \n",
      "3668-QPYBK            0.5028  \n",
      "7795-CFOCW            0.5144  \n",
      "9237-HQITU            0.5047  \n",
      "...                      ...  \n",
      "6840-RESVB            0.5115  \n",
      "2234-XADUH            0.5401  \n",
      "4801-JZAZL            0.5026  \n",
      "8361-LTMKD            0.5003  \n",
      "3186-AJIEK            0.5121  \n",
      "\n",
      "[7043 rows x 9 columns]\n"
     ]
    },
    {
     "data": {
      "text/plain": [
       "<Figure size 800x550 with 0 Axes>"
      ]
     },
     "metadata": {},
     "output_type": "display_data"
    }
   ],
   "source": [
    "%run predict_Churn.py"
   ]
  },
  {
   "cell_type": "markdown",
   "id": "3f4e71fb",
   "metadata": {},
   "source": [
    "# Summary"
   ]
  },
  {
   "cell_type": "markdown",
   "id": "9533a1cd",
   "metadata": {},
   "source": [
    "I started off by importing the non prepped data from week two. I then created a virtual enviorment where I created a pycaret conda enviorment. I then figured out that the best model was the Adaboost classifier. I then evualuted the classifier and looked at feature importance. The most used features for the program to determine churn risk was TotalCharges at the top with variable importance a little above 0.35. After that was tenure with variable importance of 0.30. I then evualted the plot for the Adaboost classifier and confusion matrix. I then saved the pycaret model. I eventually went and created a python file and ran the pycaret model there. I then imported this back into my notebook and was able to run it in the notebook. "
   ]
  }
 ],
 "metadata": {
  "kernelspec": {
   "display_name": "pycaret",
   "language": "python",
   "name": "python3"
  },
  "language_info": {
   "codemirror_mode": {
    "name": "ipython",
    "version": 3
   },
   "file_extension": ".py",
   "mimetype": "text/x-python",
   "name": "python",
   "nbconvert_exporter": "python",
   "pygments_lexer": "ipython3",
   "version": "3.11.5"
  }
 },
 "nbformat": 4,
 "nbformat_minor": 5
}
